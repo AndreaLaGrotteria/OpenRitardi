{
 "cells": [
  {
   "attachments": {},
   "cell_type": "markdown",
   "metadata": {},
   "source": [
    "# Data Generation"
   ]
  },
  {
   "attachments": {},
   "cell_type": "markdown",
   "metadata": {},
   "source": [
    "This notebook contains the code to generate some of the files used by our project website"
   ]
  },
  {
   "cell_type": "code",
   "execution_count": 1,
   "metadata": {},
   "outputs": [],
   "source": [
    "import os\n",
    "import json\n",
    "# Initial Spark\n",
    "import pyspark\n",
    "from pyspark.sql import SparkSession\n",
    "\n",
    "from pyspark.sql.functions import explode\n",
    "import pyspark.sql.types as T\n",
    "from pyspark.sql.functions import lit, col, to_date\n",
    "\n",
    "from pyspark.sql.functions import avg\n",
    "from pyspark.sql.functions import stddev\n",
    "from pyspark.sql.functions import count, countDistinct, concat, sum\n",
    "from pyspark.sql.functions import percentile_approx\n",
    "import pyspark.sql.functions as F"
   ]
  },
  {
   "cell_type": "code",
   "execution_count": 2,
   "metadata": {},
   "outputs": [],
   "source": [
    "DATA_FOLDER = \"/Users/giacomoorsi/MEGAsync Downloads/Trenitalia-GenMar2023\"\n",
    "file = \"all.parquet\""
   ]
  },
  {
   "cell_type": "code",
   "execution_count": 3,
   "metadata": {},
   "outputs": [
    {
     "name": "stderr",
     "output_type": "stream",
     "text": [
      "Setting default log level to \"WARN\".\n",
      "To adjust logging level use sc.setLogLevel(newLevel). For SparkR, use setLogLevel(newLevel).\n"
     ]
    },
    {
     "name": "stdout",
     "output_type": "stream",
     "text": [
      "23/05/18 18:31:52 WARN NativeCodeLoader: Unable to load native-hadoop library for your platform... using builtin-java classes where applicable\n"
     ]
    }
   ],
   "source": [
    "\n",
    "spark = SparkSession.builder \\\n",
    "    .master(\"local[4]\") \\\n",
    "    .appName(\"Trenitalia\") \\\n",
    "    .getOrCreate()\n",
    "\n",
    "# set driver memory to 4GB\n",
    "spark.sparkContext._conf.setAll([('spark.driver.memory', '4g')])\n",
    "\n",
    "# get sc \n",
    "sc = spark.sparkContext"
   ]
  },
  {
   "cell_type": "code",
   "execution_count": 97,
   "metadata": {},
   "outputs": [
    {
     "name": "stderr",
     "output_type": "stream",
     "text": [
      "                                                                                \r"
     ]
    },
    {
     "name": "stdout",
     "output_type": "stream",
     "text": [
      "Number of rows: 8316723\n"
     ]
    }
   ],
   "source": [
    "df = spark.read.parquet(os.path.join(DATA_FOLDER, \"parquet\", file))\n",
    "print(\"Number of rows: {}\".format(df.count()))"
   ]
  },
  {
   "cell_type": "code",
   "execution_count": 98,
   "metadata": {},
   "outputs": [],
   "source": [
    "# load the dataset of the stops\n",
    "stops = spark.read.csv(os.path.join(DATA_FOLDER, \"stops.csv\"), header=True, inferSchema=True)\n",
    "\n",
    "stops_column_renamer = {\n",
    "    \"name\": \"stop_name\",\n",
    "    \"lat\": \"stop_lat\",\n",
    "    \"lon\": \"stop_lon\",\n",
    "    \"station_id\": \"stop_id\", \n",
    "    \"name_short\": \"stop_name_short\",\n",
    "    \"id_region\": \"stop_id_region\",\n",
    "}\n",
    "\n",
    "for k, v in stops_column_renamer.items():\n",
    "    stops = stops.withColumnRenamed(k, v)"
   ]
  },
  {
   "cell_type": "code",
   "execution_count": null,
   "metadata": {},
   "outputs": [
    {
     "name": "stdout",
     "output_type": "stream",
     "text": [
      "Number of days:  90\n",
      "First date:  2023-01-01\n",
      "Last date:  2023-03-31\n"
     ]
    },
    {
     "name": "stderr",
     "output_type": "stream",
     "text": [
      "                                                                                \r"
     ]
    },
    {
     "name": "stdout",
     "output_type": "stream",
     "text": [
      "Number of trains:  11496\n"
     ]
    },
    {
     "name": "stderr",
     "output_type": "stream",
     "text": [
      "                                                                                \r"
     ]
    },
    {
     "name": "stdout",
     "output_type": "stream",
     "text": [
      "Number of stops:  2291\n"
     ]
    },
    {
     "name": "stderr",
     "output_type": "stream",
     "text": [
      "[Stage 82:==============>                                           (1 + 3) / 4]\r"
     ]
    },
    {
     "name": "stdout",
     "output_type": "stream",
     "text": [
      "Number of train classes:  11\n"
     ]
    },
    {
     "name": "stderr",
     "output_type": "stream",
     "text": [
      "                                                                                \r"
     ]
    }
   ],
   "source": [
    "# number of days\n",
    "print(\"Number of days: \", df.select(\"date\").distinct().count())\n",
    "\n",
    "# first date\n",
    "print(\"First date: \", df.select(\"date\").distinct().orderBy(\"date\").first().asDict()[\"date\"])\n",
    "\n",
    "# last date\n",
    "print(\"Last date: \", df.select(\"date\").distinct().orderBy(\"date\", ascending=False).first().asDict()[\"date\"])\n",
    "\n",
    "# number of trains\n",
    "print(\"Number of trains: \", df.select(\"train_number\").distinct().count())\n",
    "\n",
    "# number of stops\n",
    "print(\"Number of stops: \", df.select(\"stop_name\").distinct().count())\n",
    "\n",
    "# number of train classes\n",
    "print(\"Number of train classes: \", df.select(\"train_class\").distinct().count())\n"
   ]
  },
  {
   "cell_type": "code",
   "execution_count": null,
   "metadata": {},
   "outputs": [
    {
     "data": {
      "text/plain": [
       "['train_arrival_stop_name',\n",
       " 'train_class',\n",
       " 'train_cn',\n",
       " 'train_dl',\n",
       " 'train_number',\n",
       " 'train_arrival_time',\n",
       " 'oae',\n",
       " 'train_oaz',\n",
       " 'train_od',\n",
       " 'train_oo',\n",
       " 'train_departure_time',\n",
       " 'train_ope',\n",
       " 'train_opz',\n",
       " 'train_departure_stop_name',\n",
       " 'train_pr',\n",
       " 'train_arrival_delay',\n",
       " 'train_departure_delay',\n",
       " 'sea',\n",
       " 'train_sep',\n",
       " 'train_sub',\n",
       " 'day',\n",
       " 'month',\n",
       " 'year',\n",
       " 'date',\n",
       " 'stop_name',\n",
       " 'stop_arrival_time',\n",
       " 'stop_departure_time',\n",
       " 'stop_arrival_delay',\n",
       " 'stop_departure_delay']"
      ]
     },
     "execution_count": 24,
     "metadata": {},
     "output_type": "execute_result"
    }
   ],
   "source": [
    "df.columns"
   ]
  },
  {
   "attachments": {},
   "cell_type": "markdown",
   "metadata": {},
   "source": [
    "# 0. Preprocessing\n",
    "As step of preprocessing, we remove all delays that are anomalous, i.e. they are not in the range [-100, 300] minutes. "
   ]
  },
  {
   "cell_type": "code",
   "execution_count": null,
   "metadata": {},
   "outputs": [],
   "source": [
    "# remove all values of delays that are not in the range [-100, 300] if they are numerical\n",
    "MIN_DELAY = -100\n",
    "MAX_DELAY = 300\n",
    "df = df.filter((col(\"stop_arrival_delay\").cast(\"double\").isNull()) | (col(\"stop_arrival_delay\").cast(\"double\") >= MIN_DELAY) & (col(\"stop_arrival_delay\").cast(\"double\") <= MAX_DELAY))\n"
   ]
  },
  {
   "attachments": {},
   "cell_type": "markdown",
   "metadata": {},
   "source": [
    "# 1. Statistics for each station"
   ]
  },
  {
   "attachments": {},
   "cell_type": "markdown",
   "metadata": {},
   "source": [
    "For each distinct station, we want to obtain: \n",
    "1. Station name\n",
    "2. Latitude, longitude\n",
    "3. Average arrival delay\n",
    "4. Median arrival delay\n",
    "5. % of trains with delay > 3\n",
    "6. % of trains with delay > 5\n",
    "7. % of trains with delay > 10\n",
    "8. Number of distinct train numbers that stopped "
   ]
  },
  {
   "cell_type": "code",
   "execution_count": null,
   "metadata": {},
   "outputs": [],
   "source": [
    "# add column True if train had > 3 minutes of delay\n",
    "data_stop = df.join(stops, on=\"stop_name\", how=\"inner\")\n",
    "\n",
    "\n",
    "data_stop = df \\\n",
    "    .filter(col(\"stop_arrival_delay\").cast(\"double\").isNotNull()) \\\n",
    "    .withColumn(\"stop_arrival_delay_double\", col(\"stop_arrival_delay\").cast(\"double\")) \\\n",
    "    .drop(\"stop_arrival_delay\") \\\n",
    "    .withColumnRenamed(\"stop_arrival_delay_double\", \"stop_arrival_delay\") \\\n",
    "    .withColumn(\"3m_delay\", col(\"stop_arrival_delay\") > 3)\\\n",
    "    .withColumn(\"5m_delay\", col(\"stop_arrival_delay\") > 5)\\\n",
    "    .withColumn(\"10m_delay\", col(\"stop_arrival_delay\") > 10)\\\n",
    "    .withColumn(\"day_of_week\", F.date_format(F.col(\"date\"), \"E\"))\\\n",
    "    .withColumn(\"train_id\", concat(col(\"train_class\"), col(\"train_number\")))"
   ]
  },
  {
   "cell_type": "code",
   "execution_count": null,
   "metadata": {},
   "outputs": [],
   "source": [
    "data_stop_stat = data_stop.groupBy(\"stop_name\") \\\n",
    "    .agg(\n",
    "        F.avg(\"stop_arrival_delay\").alias(\"avg_arrival_delay\"),\n",
    "        F.percentile_approx(\"stop_arrival_delay\", 0.5).alias(\"median_arrival_delay\"),\n",
    "        F.countDistinct(\"train_id\").alias(\"count_trains\"),\n",
    "        F.count(\"train_id\").alias(\"count_stops\"),\n",
    "        F.sum(F.col(\"3m_delay\").cast(\"long\")).alias(\"count_3m_delay\"),\n",
    "        F.sum(F.col(\"5m_delay\").cast(\"long\")).alias(\"count_5m_delay\"),\n",
    "        F.sum(F.col(\"10m_delay\").cast(\"long\")).alias(\"count_10m_delay\"),\n",
    "    )"
   ]
  },
  {
   "cell_type": "code",
   "execution_count": null,
   "metadata": {},
   "outputs": [
    {
     "name": "stderr",
     "output_type": "stream",
     "text": [
      "Exception in thread \"serve-DataFrame\" java.net.SocketTimeoutException: Accept timed out\n",
      "\tat java.base/sun.nio.ch.NioSocketImpl.timedAccept(NioSocketImpl.java:708)\n",
      "\tat java.base/sun.nio.ch.NioSocketImpl.accept(NioSocketImpl.java:752)\n",
      "\tat java.base/java.net.ServerSocket.implAccept(ServerSocket.java:684)\n",
      "\tat java.base/java.net.ServerSocket.platformImplAccept(ServerSocket.java:650)\n",
      "\tat java.base/java.net.ServerSocket.implAccept(ServerSocket.java:626)\n",
      "\tat java.base/java.net.ServerSocket.implAccept(ServerSocket.java:583)\n",
      "\tat java.base/java.net.ServerSocket.accept(ServerSocket.java:540)\n",
      "\tat org.apache.spark.security.SocketAuthServer$$anon$1.run(SocketAuthServer.scala:64)\n"
     ]
    },
    {
     "name": "stdout",
     "output_type": "stream",
     "text": [
      "Number of stops:  2202\n"
     ]
    },
    {
     "name": "stderr",
     "output_type": "stream",
     "text": [
      "                                                                                \r"
     ]
    }
   ],
   "source": [
    "print(\"Number of stops: \", data_stop_stat.count())"
   ]
  },
  {
   "cell_type": "code",
   "execution_count": null,
   "metadata": {},
   "outputs": [
    {
     "name": "stderr",
     "output_type": "stream",
     "text": [
      "[Stage 210:=========================================================(1 + 0) / 1]\r"
     ]
    },
    {
     "name": "stdout",
     "output_type": "stream",
     "text": [
      "Number of stops in (lat,long) dataset:  2962\n"
     ]
    },
    {
     "name": "stderr",
     "output_type": "stream",
     "text": [
      "                                                                                \r"
     ]
    }
   ],
   "source": [
    "print(\"Number of stops in (lat,long) dataset: \", stops.count())"
   ]
  },
  {
   "cell_type": "code",
   "execution_count": null,
   "metadata": {},
   "outputs": [
    {
     "name": "stderr",
     "output_type": "stream",
     "text": [
      "[Stage 213:==============>                                          (1 + 3) / 4]\r"
     ]
    },
    {
     "name": "stdout",
     "output_type": "stream",
     "text": [
      "Number of stops in final dataset:  2202\n"
     ]
    },
    {
     "name": "stderr",
     "output_type": "stream",
     "text": [
      "                                                                                \r"
     ]
    }
   ],
   "source": [
    "print(\"Number of stops in final dataset: \", data_stop_stat.count())"
   ]
  },
  {
   "cell_type": "code",
   "execution_count": null,
   "metadata": {},
   "outputs": [
    {
     "name": "stderr",
     "output_type": "stream",
     "text": [
      "                                                                                \r"
     ]
    },
    {
     "data": {
      "text/html": [
       "<div>\n",
       "<style scoped>\n",
       "    .dataframe tbody tr th:only-of-type {\n",
       "        vertical-align: middle;\n",
       "    }\n",
       "\n",
       "    .dataframe tbody tr th {\n",
       "        vertical-align: top;\n",
       "    }\n",
       "\n",
       "    .dataframe thead th {\n",
       "        text-align: right;\n",
       "    }\n",
       "</style>\n",
       "<table border=\"1\" class=\"dataframe\">\n",
       "  <thead>\n",
       "    <tr style=\"text-align: right;\">\n",
       "      <th></th>\n",
       "      <th>stop_name</th>\n",
       "      <th>avg_arrival_delay</th>\n",
       "      <th>median_arrival_delay</th>\n",
       "      <th>count_trains</th>\n",
       "      <th>count_stops</th>\n",
       "      <th>count_3m_delay</th>\n",
       "      <th>count_5m_delay</th>\n",
       "      <th>count_10m_delay</th>\n",
       "    </tr>\n",
       "  </thead>\n",
       "  <tbody>\n",
       "    <tr>\n",
       "      <th>0</th>\n",
       "      <td>ABBASANTA</td>\n",
       "      <td>1.251249</td>\n",
       "      <td>0.0</td>\n",
       "      <td>29</td>\n",
       "      <td>1401</td>\n",
       "      <td>205</td>\n",
       "      <td>131</td>\n",
       "      <td>79</td>\n",
       "    </tr>\n",
       "    <tr>\n",
       "      <th>1</th>\n",
       "      <td>ABBIATEGRASSO</td>\n",
       "      <td>2.978809</td>\n",
       "      <td>2.0</td>\n",
       "      <td>57</td>\n",
       "      <td>3728</td>\n",
       "      <td>1105</td>\n",
       "      <td>596</td>\n",
       "      <td>209</td>\n",
       "    </tr>\n",
       "    <tr>\n",
       "      <th>2</th>\n",
       "      <td>ACQUAVIVA</td>\n",
       "      <td>3.013732</td>\n",
       "      <td>2.0</td>\n",
       "      <td>30</td>\n",
       "      <td>2039</td>\n",
       "      <td>721</td>\n",
       "      <td>327</td>\n",
       "      <td>61</td>\n",
       "    </tr>\n",
       "    <tr>\n",
       "      <th>3</th>\n",
       "      <td>ACQUAVIVA DELLE FONTI</td>\n",
       "      <td>1.041216</td>\n",
       "      <td>1.0</td>\n",
       "      <td>36</td>\n",
       "      <td>2402</td>\n",
       "      <td>158</td>\n",
       "      <td>74</td>\n",
       "      <td>35</td>\n",
       "    </tr>\n",
       "    <tr>\n",
       "      <th>4</th>\n",
       "      <td>ACQUEDOLCI-S.FRATELLO</td>\n",
       "      <td>0.272120</td>\n",
       "      <td>0.0</td>\n",
       "      <td>18</td>\n",
       "      <td>1198</td>\n",
       "      <td>93</td>\n",
       "      <td>57</td>\n",
       "      <td>22</td>\n",
       "    </tr>\n",
       "    <tr>\n",
       "      <th>...</th>\n",
       "      <td>...</td>\n",
       "      <td>...</td>\n",
       "      <td>...</td>\n",
       "      <td>...</td>\n",
       "      <td>...</td>\n",
       "      <td>...</td>\n",
       "      <td>...</td>\n",
       "      <td>...</td>\n",
       "    </tr>\n",
       "    <tr>\n",
       "      <th>95</th>\n",
       "      <td>CAMPODARSEGO</td>\n",
       "      <td>6.250000</td>\n",
       "      <td>5.0</td>\n",
       "      <td>8</td>\n",
       "      <td>8</td>\n",
       "      <td>6</td>\n",
       "      <td>2</td>\n",
       "      <td>1</td>\n",
       "    </tr>\n",
       "    <tr>\n",
       "      <th>96</th>\n",
       "      <td>CAMPOLIGURE MASONE</td>\n",
       "      <td>4.531998</td>\n",
       "      <td>3.0</td>\n",
       "      <td>24</td>\n",
       "      <td>1797</td>\n",
       "      <td>848</td>\n",
       "      <td>471</td>\n",
       "      <td>147</td>\n",
       "    </tr>\n",
       "    <tr>\n",
       "      <th>97</th>\n",
       "      <td>CAMUCIA CORTONA</td>\n",
       "      <td>3.785942</td>\n",
       "      <td>2.0</td>\n",
       "      <td>54</td>\n",
       "      <td>3770</td>\n",
       "      <td>1459</td>\n",
       "      <td>826</td>\n",
       "      <td>269</td>\n",
       "    </tr>\n",
       "    <tr>\n",
       "      <th>98</th>\n",
       "      <td>CANDELA</td>\n",
       "      <td>4.684211</td>\n",
       "      <td>3.0</td>\n",
       "      <td>8</td>\n",
       "      <td>532</td>\n",
       "      <td>255</td>\n",
       "      <td>175</td>\n",
       "      <td>43</td>\n",
       "    </tr>\n",
       "    <tr>\n",
       "      <th>99</th>\n",
       "      <td>CANDIOLO</td>\n",
       "      <td>4.380804</td>\n",
       "      <td>4.0</td>\n",
       "      <td>46</td>\n",
       "      <td>3532</td>\n",
       "      <td>1852</td>\n",
       "      <td>1119</td>\n",
       "      <td>123</td>\n",
       "    </tr>\n",
       "  </tbody>\n",
       "</table>\n",
       "<p>100 rows × 8 columns</p>\n",
       "</div>"
      ],
      "text/plain": [
       "                stop_name  avg_arrival_delay  median_arrival_delay  \\\n",
       "0               ABBASANTA           1.251249                   0.0   \n",
       "1           ABBIATEGRASSO           2.978809                   2.0   \n",
       "2               ACQUAVIVA           3.013732                   2.0   \n",
       "3   ACQUAVIVA DELLE FONTI           1.041216                   1.0   \n",
       "4   ACQUEDOLCI-S.FRATELLO           0.272120                   0.0   \n",
       "..                    ...                ...                   ...   \n",
       "95           CAMPODARSEGO           6.250000                   5.0   \n",
       "96     CAMPOLIGURE MASONE           4.531998                   3.0   \n",
       "97        CAMUCIA CORTONA           3.785942                   2.0   \n",
       "98                CANDELA           4.684211                   3.0   \n",
       "99               CANDIOLO           4.380804                   4.0   \n",
       "\n",
       "    count_trains  count_stops  count_3m_delay  count_5m_delay  count_10m_delay  \n",
       "0             29         1401             205             131               79  \n",
       "1             57         3728            1105             596              209  \n",
       "2             30         2039             721             327               61  \n",
       "3             36         2402             158              74               35  \n",
       "4             18         1198              93              57               22  \n",
       "..           ...          ...             ...             ...              ...  \n",
       "95             8            8               6               2                1  \n",
       "96            24         1797             848             471              147  \n",
       "97            54         3770            1459             826              269  \n",
       "98             8          532             255             175               43  \n",
       "99            46         3532            1852            1119              123  \n",
       "\n",
       "[100 rows x 8 columns]"
      ]
     },
     "execution_count": 80,
     "metadata": {},
     "output_type": "execute_result"
    }
   ],
   "source": [
    "data_stop_pandas = data_stop_stat.toPandas()\n",
    "data_stop_pandas.head(100)"
   ]
  },
  {
   "cell_type": "code",
   "execution_count": null,
   "metadata": {},
   "outputs": [],
   "source": [
    "# save as csv\n",
    "data_stop_pandas.to_csv((\"dataset_generated/data_stop/data_stop.csv\"), index=False)"
   ]
  },
  {
   "attachments": {},
   "cell_type": "markdown",
   "metadata": {},
   "source": [
    "### b. Statistics for each day of week"
   ]
  },
  {
   "cell_type": "code",
   "execution_count": null,
   "metadata": {},
   "outputs": [],
   "source": [
    "data_stop_stat = data_stop.groupBy(\"stop_name\", \"day_of_week\") \\\n",
    "    .agg(\n",
    "        F.avg(\"stop_arrival_delay\").alias(\"avg_arrival_delay\"),\n",
    "        F.percentile_approx(\"stop_arrival_delay\", 0.5).alias(\"median_arrival_delay\"),\n",
    "        F.countDistinct(\"train_id\").alias(\"count_trains\"),\n",
    "        F.count(\"train_id\").alias(\"count_stops\"),\n",
    "        F.sum(F.col(\"3m_delay\").cast(\"long\")).alias(\"count_3m_delay\"),\n",
    "        F.sum(F.col(\"5m_delay\").cast(\"long\")).alias(\"count_5m_delay\"),\n",
    "        F.sum(F.col(\"10m_delay\").cast(\"long\")).alias(\"count_10m_delay\"),\n",
    "    )"
   ]
  },
  {
   "cell_type": "code",
   "execution_count": null,
   "metadata": {},
   "outputs": [
    {
     "name": "stderr",
     "output_type": "stream",
     "text": [
      "                                                                                \r"
     ]
    },
    {
     "name": "stdout",
     "output_type": "stream",
     "text": [
      "+--------------------+-----------+--------------------+--------------------+------------+-----------+--------------+--------------+---------------+\n",
      "|           stop_name|day_of_week|   avg_arrival_delay|median_arrival_delay|count_trains|count_stops|count_3m_delay|count_5m_delay|count_10m_delay|\n",
      "+--------------------+-----------+--------------------+--------------------+------------+-----------+--------------+--------------+---------------+\n",
      "|         ABANO TERME|        Mon|  2.1349862258953167|                 2.0|          28|        363|            76|            51|             18|\n",
      "|         ABANO TERME|        Tue|  1.3961218836565097|                 2.0|          28|        361|            75|            44|              6|\n",
      "|         ABANO TERME|        Wed|  1.6565096952908587|                 2.0|          28|        361|            82|            52|              8|\n",
      "|     ABBADIA LARIANA|        Tue|              1.0875|                 1.0|          25|        320|            47|            29|             13|\n",
      "|           ABBASANTA|        Tue|  1.2995391705069124|                 0.0|          17|        217|            31|            22|             13|\n",
      "|    ABBIATE GUAZZONE|        Fri|         0.001953125|                 0.0|          48|        512|             0|             0|              0|\n",
      "|    ABBIATE GUAZZONE|        Sat|0.002242152466367713|                 0.0|          41|        446|             0|             0|              0|\n",
      "|       ABBIATEGRASSO|        Sat|  1.6751054852320675|                 1.0|          40|        474|            89|            39|             10|\n",
      "|       ABBIATEGRASSO|        Sun|  2.3852459016393444|                 1.0|          33|        366|            66|            37|             19|\n",
      "|       ABBIATEGRASSO|        Tue|   4.085324232081911|                 2.0|          46|        586|           203|           129|             52|\n",
      "|               ACATE|        Fri|  0.5909090909090909|                 0.0|           4|         44|             7|             4|              0|\n",
      "|             ACCIANO|        Fri|              7.1875|                 7.0|           5|         48|            48|            35|              4|\n",
      "|              ACERRA|        Wed|    3.52414605418139|                 2.0|          69|        849|           284|           153|             59|\n",
      "|            ACIREALE|        Fri|   2.863128491620112|                 1.0|          79|        716|           148|           111|             59|\n",
      "|         ACQUAFREDDA|        Tue|                14.0|                 9.0|           3|          4|             3|             3|              1|\n",
      "|ACQUANEGRA CREMONESE|        Sat|  6.1525423728813555|                 3.0|           5|         59|            25|            16|              9|\n",
      "|ACQUANEGRA CREMONESE|        Sun|   3.054054054054054|                 2.0|           4|         37|            13|             8|              1|\n",
      "|          ACQUAPPESA|        Wed|                12.0|                12.0|           1|          1|             1|             1|              1|\n",
      "|ACQUAVIVA DELLE F...|        Sat|  0.5972222222222222|                 0.0|          31|        360|            21|            10|              1|\n",
      "|ACQUAVIVA DELLE F...|        Thu|  1.6851851851851851|                 1.0|          31|        378|            29|            16|              8|\n",
      "+--------------------+-----------+--------------------+--------------------+------------+-----------+--------------+--------------+---------------+\n",
      "only showing top 20 rows\n",
      "\n"
     ]
    },
    {
     "name": "stderr",
     "output_type": "stream",
     "text": [
      "                                                                                \r"
     ]
    }
   ],
   "source": [
    "data_stop_stat.show()\n",
    "\n",
    "data_stop_stat_pandas = data_stop_stat.toPandas()"
   ]
  },
  {
   "cell_type": "code",
   "execution_count": null,
   "metadata": {},
   "outputs": [],
   "source": [
    "# create a file for each day of week with the statistics\n",
    "for day in data_stop_stat_pandas[\"day_of_week\"].unique():\n",
    "    data_stop_stat_pandas[data_stop_stat_pandas[\"day_of_week\"] == day].to_csv((\"dataset_generated/data_stop/data_stop_{}.csv\".format(day)), index=False)\n",
    "    "
   ]
  },
  {
   "attachments": {},
   "cell_type": "markdown",
   "metadata": {},
   "source": [
    "### 1c. Statistics for each train type"
   ]
  },
  {
   "cell_type": "code",
   "execution_count": null,
   "metadata": {},
   "outputs": [],
   "source": [
    "data_stop_stat = data_stop.groupBy(\"stop_name\", \"train_class\") \\\n",
    "    .agg(\n",
    "        F.avg(\"stop_arrival_delay\").alias(\"avg_arrival_delay\"),\n",
    "        F.percentile_approx(\"stop_arrival_delay\", 0.5).alias(\"median_arrival_delay\"),\n",
    "        F.countDistinct(\"train_id\").alias(\"count_trains\"),\n",
    "        F.count(\"train_id\").alias(\"count_stops\"),\n",
    "        F.sum(F.col(\"3m_delay\").cast(\"long\")).alias(\"count_3m_delay\"),\n",
    "        F.sum(F.col(\"5m_delay\").cast(\"long\")).alias(\"count_5m_delay\"),\n",
    "        F.sum(F.col(\"10m_delay\").cast(\"long\")).alias(\"count_10m_delay\"),\n",
    "    )"
   ]
  },
  {
   "cell_type": "code",
   "execution_count": null,
   "metadata": {},
   "outputs": [
    {
     "name": "stderr",
     "output_type": "stream",
     "text": [
      "                                                                                \r"
     ]
    },
    {
     "name": "stdout",
     "output_type": "stream",
     "text": [
      "+--------------------+-----------+--------------------+--------------------+------------+-----------+--------------+--------------+---------------+\n",
      "|           stop_name|train_class|   avg_arrival_delay|median_arrival_delay|count_trains|count_stops|count_3m_delay|count_5m_delay|count_10m_delay|\n",
      "+--------------------+-----------+--------------------+--------------------+------------+-----------+--------------+--------------+---------------+\n",
      "|           ABBASANTA|        REG|   1.251249107780157|                 0.0|          29|       1401|           205|           131|             79|\n",
      "|    ABBIATE GUAZZONE|        REG|0.001497902935889...|                 0.0|          61|       3338|             0|             0|              0|\n",
      "|ACQUAVIVA DELLE F...|        REG|  1.0412156536219817|                 1.0|          36|       2402|           158|            74|             35|\n",
      "|         ACQUI TERME|        REG|   3.531089978054133|                 3.0|          41|       2734|           994|           453|            103|\n",
      "|AGROPOLI CASTELLA...|        ICN|   5.591549295774648|                 2.0|           2|         71|            27|            23|             13|\n",
      "|             AIRASCA|        REG|   4.418723404255319|                 4.0|          46|       3525|          2073|          1247|            134|\n",
      "|              AIRUNO|        REG|  3.0874976428436733|                 1.0|          69|       5303|          1339|           778|            275|\n",
      "|                 ALA|         IR|                22.0|                 3.0|           2|          2|             1|             1|              1|\n",
      "|                 ALA|        REG|   4.321287779237845|                 3.0|          69|       4566|          2119|          1360|            448|\n",
      "|                ALBA|        REG|  0.5326170376055257|                 0.0|          18|       1303|           104|            34|             15|\n",
      "|  ALBAIRATE VERMEZZO|        REG|   1.008749189889825|                 0.0|          95|       6172|          1067|           631|            279|\n",
      "|     ALBATE-TRECALLO|        REG|   2.538695917123705|                 2.0|          22|       1641|           396|           160|             19|\n",
      "|            ALBISOLA|        REG|  1.9523715803975594|                 1.0|         101|       5081|           798|           428|            139|\n",
      "|         ALESSANDRIA|        REG|  1.1352555701179554|                 1.0|         121|       7630|          1794|          1020|            287|\n",
      "|      ALICE BELCOLLE|        REG|  0.9135538954108858|                 0.0|          16|        937|            36|            18|              7|\n",
      "|          ALI` TERME|        REG|   2.331540013449899|                 1.0|          51|       2974|           721|           458|            162|\n",
      "|              ALTARE|        REG|  1.3159851301115242|                 0.0|          11|        807|            77|            61|             32|\n",
      "|             AMANTEA|        NCL|               -22.0|               -22.0|           1|          1|             0|             0|              0|\n",
      "|   AMOROSI MELIZZANO|           |                30.5|                29.0|           2|          4|             4|             4|              4|\n",
      "|   AMOROSI MELIZZANO|         IC|                10.5|                 7.0|           1|          2|             2|             2|              1|\n",
      "+--------------------+-----------+--------------------+--------------------+------------+-----------+--------------+--------------+---------------+\n",
      "only showing top 20 rows\n",
      "\n"
     ]
    },
    {
     "name": "stderr",
     "output_type": "stream",
     "text": [
      "                                                                                \r"
     ]
    }
   ],
   "source": [
    "data_stop_stat.show()\n",
    "\n",
    "data_stop_stat_pandas = data_stop_stat.toPandas()"
   ]
  },
  {
   "cell_type": "code",
   "execution_count": null,
   "metadata": {},
   "outputs": [],
   "source": [
    "# create a file for each day of week with the statistics\n",
    "for train_class in data_stop_stat_pandas[\"train_class\"].unique():\n",
    "    data_stop_stat_pandas[data_stop_stat_pandas[\"train_class\"] == train_class].to_csv((\"dataset_generated/data_stop/data_stop_class_{}.csv\".format(train_class)), index=False)\n",
    "    "
   ]
  },
  {
   "attachments": {},
   "cell_type": "markdown",
   "metadata": {},
   "source": [
    "### 1d. Statistics for each week day and train type\n"
   ]
  },
  {
   "cell_type": "code",
   "execution_count": null,
   "metadata": {},
   "outputs": [],
   "source": [
    "data_stop_stat = data_stop.groupBy(\"stop_name\", \"train_class\", \"day_of_week\") \\\n",
    "    .agg(\n",
    "        F.avg(\"stop_arrival_delay\").alias(\"avg_arrival_delay\"),\n",
    "        F.percentile_approx(\"stop_arrival_delay\", 0.5).alias(\"median_arrival_delay\"),\n",
    "        F.countDistinct(\"train_id\").alias(\"count_trains\"),\n",
    "        F.count(\"train_id\").alias(\"count_stops\"),\n",
    "        F.sum(F.col(\"3m_delay\").cast(\"long\")).alias(\"count_3m_delay\"),\n",
    "        F.sum(F.col(\"5m_delay\").cast(\"long\")).alias(\"count_5m_delay\"),\n",
    "        F.sum(F.col(\"10m_delay\").cast(\"long\")).alias(\"count_10m_delay\"),\n",
    "    )"
   ]
  },
  {
   "cell_type": "code",
   "execution_count": null,
   "metadata": {},
   "outputs": [
    {
     "name": "stderr",
     "output_type": "stream",
     "text": [
      "                                                                                \r"
     ]
    }
   ],
   "source": [
    "data_stop_stat_pandas = data_stop_stat.toPandas()"
   ]
  },
  {
   "cell_type": "code",
   "execution_count": null,
   "metadata": {},
   "outputs": [],
   "source": [
    "# for each combination of weekday and train_class, create a file with the statistics\n",
    "for day in data_stop_stat_pandas[\"day_of_week\"].unique():\n",
    "    for train_class in data_stop_stat_pandas[\"train_class\"].unique():\n",
    "        data_stop_stat_pandas[(data_stop_stat_pandas[\"day_of_week\"] == day) & (data_stop_stat_pandas[\"train_class\"] == train_class)].to_csv((\"dataset_generated/data_stop/data_stop_mix_{}_{}.csv\".format(day, train_class)), index=False)\n"
   ]
  },
  {
   "attachments": {},
   "cell_type": "markdown",
   "metadata": {},
   "source": [
    "---"
   ]
  },
  {
   "attachments": {},
   "cell_type": "markdown",
   "metadata": {},
   "source": []
  },
  {
   "attachments": {},
   "cell_type": "markdown",
   "metadata": {},
   "source": []
  },
  {
   "attachments": {},
   "cell_type": "markdown",
   "metadata": {},
   "source": []
  }
 ],
 "metadata": {
  "kernelspec": {
   "display_name": "TrenitaliaSpark",
   "language": "python",
   "name": "python3"
  },
  "language_info": {
   "codemirror_mode": {
    "name": "ipython",
    "version": 3
   },
   "file_extension": ".py",
   "mimetype": "text/x-python",
   "name": "python",
   "nbconvert_exporter": "python",
   "pygments_lexer": "ipython3",
   "version": "3.10.8"
  },
  "orig_nbformat": 4
 },
 "nbformat": 4,
 "nbformat_minor": 2
}
